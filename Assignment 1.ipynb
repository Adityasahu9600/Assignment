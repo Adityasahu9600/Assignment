{
 "cells": [
  {
   "cell_type": "raw",
   "id": "b98429e2",
   "metadata": {},
   "source": [
    "1. In the below elements which of them are values or an expression? eg:- values can be integer or string and expressions will be mathematical operators.\n",
    "\n",
    "Answer: 'hello' - String\n",
    "         -87.8  - float\n",
    "         - / +  - mathematical operators\n",
    "         6      - integer\n",
    "         "
   ]
  },
  {
   "cell_type": "raw",
   "id": "05d19f0f",
   "metadata": {},
   "source": [
    "2. What is the difference between string and variable?\n",
    "\n",
    "Answer:\n",
    "String is like text or a sentence & it is denoted by \" \" or ' ' \n",
    "Variable is something to which a value is assigned, it is denoted by alphabets or words  Example - A ,B , Num etc.\n",
    "& not by any numeric value"
   ]
  },
  {
   "cell_type": "raw",
   "id": "8753baff",
   "metadata": {},
   "source": [
    "3. Describe three different data types.\n",
    "\n",
    "Answer:\n",
    "    1. string\n",
    "    2. integer\n",
    "    3. boolen\n",
    "    "
   ]
  },
  {
   "cell_type": "raw",
   "id": "25f6d6d2",
   "metadata": {},
   "source": [
    "4. What is an expression made up of? What do all expressions do?\n",
    "\n",
    "Expression is made up of variables (a, b, num_1) , mathematical operators( =,+,-,/,*<,>,!,%,) and together they make an expression. \n",
    "Example: Sum = a + b \n"
   ]
  },
  {
   "cell_type": "raw",
   "id": "6b51f3e5",
   "metadata": {},
   "source": [
    "5. This assignment statements, like spam = 10. What is the difference between an expression and a statement?\n",
    "\n",
    "Statement : it is like an command , example: print(“ hi “)\n",
    "Expression : it is a value, example : 2,2.5 or (2/3)+1\n"
   ]
  },
  {
   "cell_type": "raw",
   "id": "ec5f0ecf",
   "metadata": {},
   "source": [
    "6. After running the following code, what does the variable bacon contain?\n",
    "bacon = 22\n",
    "bacon + 1\n",
    "\n",
    "Answer: 22"
   ]
  },
  {
   "cell_type": "raw",
   "id": "cb8fe368",
   "metadata": {},
   "source": [
    "7. What should the values of the following two terms be?\n",
    "'spam' + 'spamspam'\n",
    "'spam' * 3\n",
    "\n",
    "Answer:   'spamspamspam'"
   ]
  },
  {
   "cell_type": "raw",
   "id": "14b52581",
   "metadata": {},
   "source": [
    "8. Why is eggs a valid variable name while 100 is invalid?\n",
    "\n",
    "Answer:\n",
    "\n",
    "variable name can be an alphabet or words & not numeric values hence, eggs is valid & 100 not as a variable."
   ]
  },
  {
   "cell_type": "raw",
   "id": "11ebaaf9",
   "metadata": {},
   "source": [
    "9. What three functions can be used to get the integer, floating-point number, or string version of a value?\n",
    "\n",
    "Answer:\n",
    "str(), float(), int()"
   ]
  },
  {
   "cell_type": "raw",
   "id": "780b02d4",
   "metadata": {},
   "source": [
    "10. Why does this expression cause an error? How can you fix it?\n",
    "\n",
    "Answer: 'I have eaten ' + 99 + ' burritos.' \n",
    "            Str          int       str\n",
    "\n",
    "TypeError: can only concatenate str (not \"int\") to str\n",
    "we can not add string with integer \n",
    "\n",
    "we can fix it by writting 99  as '99' , to convert it into a string from int.\n",
    "\n",
    "\n"
   ]
  },
  {
   "cell_type": "code",
   "execution_count": 2,
   "id": "30c7913c",
   "metadata": {},
   "outputs": [],
   "source": [
    "j = 'I have eaten ' + '99' + ' burritos' "
   ]
  },
  {
   "cell_type": "code",
   "execution_count": 3,
   "id": "546655f9",
   "metadata": {},
   "outputs": [
    {
     "data": {
      "text/plain": [
       "'I have eaten 99 burritos'"
      ]
     },
     "execution_count": 3,
     "metadata": {},
     "output_type": "execute_result"
    }
   ],
   "source": [
    "j"
   ]
  },
  {
   "cell_type": "code",
   "execution_count": null,
   "id": "269ce275",
   "metadata": {},
   "outputs": [],
   "source": []
  }
 ],
 "metadata": {
  "kernelspec": {
   "display_name": "Python 3 (ipykernel)",
   "language": "python",
   "name": "python3"
  },
  "language_info": {
   "codemirror_mode": {
    "name": "ipython",
    "version": 3
   },
   "file_extension": ".py",
   "mimetype": "text/x-python",
   "name": "python",
   "nbconvert_exporter": "python",
   "pygments_lexer": "ipython3",
   "version": "3.9.12"
  }
 },
 "nbformat": 4,
 "nbformat_minor": 5
}
